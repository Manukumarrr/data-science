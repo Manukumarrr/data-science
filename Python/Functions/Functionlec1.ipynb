{
 "cells": [
  {
   "cell_type": "markdown",
   "id": "4f006e61",
   "metadata": {
    "vscode": {
     "languageId": "plaintext"
    }
   },
   "source": [
    "#syntax\n",
    "def function_name(arameter):\n",
    "\"docstrings\"\n",
    "#function body\n",
    "return expression"
   ]
  },
  {
   "cell_type": "code",
   "execution_count": null,
   "id": "51acbd0c",
   "metadata": {
    "vscode": {
     "languageId": "plaintext"
    }
   },
   "outputs": [],
   "source": []
  }
 ],
 "metadata": {
  "language_info": {
   "name": "python"
  }
 },
 "nbformat": 4,
 "nbformat_minor": 5
}
