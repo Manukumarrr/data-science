{
 "cells": [
  {
   "cell_type": "markdown",
   "id": "f7f30a0f",
   "metadata": {},
   "source": [
    "List is a inbuilt data structure which is used to store data in sequence/order and it is mutable in nature and they can contain element of any data type."
   ]
  },
  {
   "cell_type": "code",
   "execution_count": 1,
   "id": "22293210",
   "metadata": {},
   "outputs": [
    {
     "name": "stdout",
     "output_type": "stream",
     "text": [
      "<class 'list'>\n"
     ]
    }
   ],
   "source": [
    "lst=[]\n",
    "print(type(lst))"
   ]
  },
  {
   "cell_type": "code",
   "execution_count": 2,
   "id": "bf16d69b",
   "metadata": {},
   "outputs": [
    {
     "name": "stdout",
     "output_type": "stream",
     "text": [
      "['Manu', 'Anu', 'Khushi', 'Salony', 1, 2, 3, 4]\n"
     ]
    }
   ],
   "source": [
    "name=[\"Manu\",\"Anu\",\"Khushi\",\"Salony\",1,2,3,4]\n",
    "print(name)"
   ]
  },
  {
   "cell_type": "code",
   "execution_count": 3,
   "id": "3460b6ba",
   "metadata": {},
   "outputs": [
    {
     "name": "stdout",
     "output_type": "stream",
     "text": [
      "[1, 'manu', 4.5, True]\n"
     ]
    }
   ],
   "source": [
    "mixed_list=[1,'manu',4.5,True]\n",
    "print(mixed_list)"
   ]
  },
  {
   "cell_type": "code",
   "execution_count": 4,
   "id": "76a0bcd3",
   "metadata": {},
   "outputs": [
    {
     "name": "stdout",
     "output_type": "stream",
     "text": [
      "Manu\n",
      "Anu\n",
      "Khushi\n",
      "Salony\n",
      "1\n",
      "2\n",
      "3\n",
      "4\n"
     ]
    }
   ],
   "source": [
    "name=[\"Manu\",\"Anu\",\"Khushi\",\"Salony\",1,2,3,4]\n",
    "for i in name:\n",
    "    print(i)"
   ]
  },
  {
   "cell_type": "code",
   "execution_count": 5,
   "id": "c20591c1",
   "metadata": {},
   "outputs": [
    {
     "data": {
      "text/plain": [
       "['Anu', 'Khushi', 'Salony', 1, 2, 3, 4]"
      ]
     },
     "execution_count": 5,
     "metadata": {},
     "output_type": "execute_result"
    }
   ],
   "source": [
    "name[1:]"
   ]
  },
  {
   "cell_type": "code",
   "execution_count": 6,
   "id": "4085e34c",
   "metadata": {},
   "outputs": [
    {
     "data": {
      "text/plain": [
       "['Anu', 'Khushi', 'Salony']"
      ]
     },
     "execution_count": 6,
     "metadata": {},
     "output_type": "execute_result"
    }
   ],
   "source": [
    "name[1:4]"
   ]
  },
  {
   "cell_type": "code",
   "execution_count": 7,
   "id": "578390a2",
   "metadata": {},
   "outputs": [
    {
     "data": {
      "text/plain": [
       "['Anu', 'Salony', 2]"
      ]
     },
     "execution_count": 7,
     "metadata": {},
     "output_type": "execute_result"
    }
   ],
   "source": [
    "name[1:6:2]"
   ]
  },
  {
   "cell_type": "code",
   "execution_count": 8,
   "id": "5f7e2f08",
   "metadata": {},
   "outputs": [
    {
     "data": {
      "text/plain": [
       "[4, 3, 2, 1, 'Salony', 'Khushi', 'Anu', 'Manu']"
      ]
     },
     "execution_count": 8,
     "metadata": {},
     "output_type": "execute_result"
    }
   ],
   "source": [
    "name[-1::-1]"
   ]
  },
  {
   "cell_type": "code",
   "execution_count": 9,
   "id": "aec01499",
   "metadata": {},
   "outputs": [
    {
     "data": {
      "text/plain": [
       "[4, 2, 'Salony']"
      ]
     },
     "execution_count": 9,
     "metadata": {},
     "output_type": "execute_result"
    }
   ],
   "source": [
    "name[-1:1:-2]"
   ]
  },
  {
   "cell_type": "code",
   "execution_count": 10,
   "id": "01534da5",
   "metadata": {},
   "outputs": [
    {
     "data": {
      "text/plain": [
       "[]"
      ]
     },
     "execution_count": 10,
     "metadata": {},
     "output_type": "execute_result"
    }
   ],
   "source": [
    "name[-1:-3]"
   ]
  },
  {
   "cell_type": "code",
   "execution_count": 11,
   "id": "e8886db1",
   "metadata": {},
   "outputs": [],
   "source": [
    "##list methods\n",
    "\n",
    "name.append(\"Punam\")"
   ]
  },
  {
   "cell_type": "code",
   "execution_count": 12,
   "id": "45a2f138",
   "metadata": {},
   "outputs": [
    {
     "name": "stdout",
     "output_type": "stream",
     "text": [
      "['Manu', 'Anu', 'Khushi', 'Salony', 1, 2, 3, 4, 'Punam']\n"
     ]
    }
   ],
   "source": [
    "print(name)"
   ]
  },
  {
   "cell_type": "code",
   "execution_count": 13,
   "id": "d2d9d227",
   "metadata": {},
   "outputs": [],
   "source": [
    "name.insert(1,\"Ruchi\")"
   ]
  },
  {
   "cell_type": "code",
   "execution_count": 14,
   "id": "dac01f74",
   "metadata": {},
   "outputs": [
    {
     "name": "stdout",
     "output_type": "stream",
     "text": [
      "['Manu', 'Ruchi', 'Anu', 'Khushi', 'Salony', 1, 2, 3, 4, 'Punam']\n"
     ]
    }
   ],
   "source": [
    "print(name)"
   ]
  },
  {
   "cell_type": "code",
   "execution_count": 15,
   "id": "4c33a395",
   "metadata": {},
   "outputs": [],
   "source": [
    "name.remove(4)"
   ]
  },
  {
   "cell_type": "code",
   "execution_count": 16,
   "id": "116f032a",
   "metadata": {},
   "outputs": [
    {
     "name": "stdout",
     "output_type": "stream",
     "text": [
      "['Manu', 'Ruchi', 'Anu', 'Khushi', 'Salony', 1, 2, 3, 'Punam']\n"
     ]
    }
   ],
   "source": [
    "print(name)"
   ]
  },
  {
   "cell_type": "code",
   "execution_count": 17,
   "id": "ab032fd2",
   "metadata": {},
   "outputs": [
    {
     "name": "stdout",
     "output_type": "stream",
     "text": [
      "Popped name: Punam\n",
      "Updated list: ['Manu', 'Ruchi', 'Anu', 'Khushi', 'Salony', 1, 2, 3]\n"
     ]
    }
   ],
   "source": [
    "\n",
    "\n",
    "popped_name = name.pop()\n",
    "\n",
    "print(\"Popped name:\", popped_name)\n",
    "print(\"Updated list:\", name)"
   ]
  },
  {
   "cell_type": "code",
   "execution_count": 18,
   "id": "35b85358",
   "metadata": {},
   "outputs": [
    {
     "data": {
      "text/plain": [
       "2"
      ]
     },
     "execution_count": 18,
     "metadata": {},
     "output_type": "execute_result"
    }
   ],
   "source": [
    "name.index(\"Anu\")"
   ]
  },
  {
   "cell_type": "code",
   "execution_count": 19,
   "id": "5e956710",
   "metadata": {},
   "outputs": [
    {
     "name": "stdout",
     "output_type": "stream",
     "text": [
      "0 Manu\n",
      "1 Ruchi\n",
      "2 Anu\n",
      "3 Khushi\n",
      "4 Salony\n",
      "5 1\n",
      "6 2\n",
      "7 3\n"
     ]
    }
   ],
   "source": [
    "for index,names in enumerate (name):\n",
    "    print(index,names)"
   ]
  },
  {
   "cell_type": "code",
   "execution_count": 22,
   "id": "2f78ad09",
   "metadata": {},
   "outputs": [],
   "source": [
    "lst=[]\n",
    "for x in range(10):\n",
    "    lst.append(x**2)\n",
    "  "
   ]
  },
  {
   "cell_type": "code",
   "execution_count": 23,
   "id": "7bbb67a6",
   "metadata": {},
   "outputs": [
    {
     "name": "stdout",
     "output_type": "stream",
     "text": [
      "[0, 1, 4, 9, 16, 25, 36, 49, 64, 81]\n"
     ]
    }
   ],
   "source": [
    "  print(lst)"
   ]
  },
  {
   "cell_type": "code",
   "execution_count": 24,
   "id": "68f0336d",
   "metadata": {},
   "outputs": [
    {
     "data": {
      "text/plain": [
       "[0, 1, 4, 9, 16, 25, 36, 49, 64, 81]"
      ]
     },
     "execution_count": 24,
     "metadata": {},
     "output_type": "execute_result"
    }
   ],
   "source": [
    "##comprehenshion\n",
    "[x**2 for x in range(10)]"
   ]
  },
  {
   "cell_type": "code",
   "execution_count": 27,
   "id": "1dc72a61",
   "metadata": {},
   "outputs": [
    {
     "data": {
      "text/plain": [
       "[1,\n",
       " 3,\n",
       " 5,\n",
       " 7,\n",
       " 9,\n",
       " 11,\n",
       " 13,\n",
       " 15,\n",
       " 17,\n",
       " 19,\n",
       " 21,\n",
       " 23,\n",
       " 25,\n",
       " 27,\n",
       " 29,\n",
       " 31,\n",
       " 33,\n",
       " 35,\n",
       " 37,\n",
       " 39,\n",
       " 41,\n",
       " 43,\n",
       " 45,\n",
       " 47,\n",
       " 49,\n",
       " 51,\n",
       " 53,\n",
       " 55,\n",
       " 57,\n",
       " 59,\n",
       " 61,\n",
       " 63,\n",
       " 65,\n",
       " 67,\n",
       " 69,\n",
       " 71,\n",
       " 73,\n",
       " 75,\n",
       " 77,\n",
       " 79,\n",
       " 81,\n",
       " 83,\n",
       " 85,\n",
       " 87,\n",
       " 89,\n",
       " 91,\n",
       " 93,\n",
       " 95,\n",
       " 97,\n",
       " 99]"
      ]
     },
     "execution_count": 27,
     "metadata": {},
     "output_type": "execute_result"
    }
   ],
   "source": [
    "[x for x in range(100) if x%2]"
   ]
  },
  {
   "cell_type": "code",
   "execution_count": null,
   "id": "b6f253db",
   "metadata": {},
   "outputs": [],
   "source": []
  }
 ],
 "metadata": {
  "kernelspec": {
   "display_name": "Python 3",
   "language": "python",
   "name": "python3"
  },
  "language_info": {
   "codemirror_mode": {
    "name": "ipython",
    "version": 3
   },
   "file_extension": ".py",
   "mimetype": "text/x-python",
   "name": "python",
   "nbconvert_exporter": "python",
   "pygments_lexer": "ipython3",
   "version": "3.10.5"
  }
 },
 "nbformat": 4,
 "nbformat_minor": 5
}
