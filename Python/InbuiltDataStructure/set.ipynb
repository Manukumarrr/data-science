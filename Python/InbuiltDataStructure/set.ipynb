{
 "cells": [
  {
   "cell_type": "markdown",
   "id": "7f8969d1",
   "metadata": {},
   "source": [
    "SETS are inbuilt data structure in python which store unique items in it. They are unorderd means items does not follow any specific order and they do not allow any duplicate element. sets are used for membership test and eliminating duplicate enteries and performs mathematical operations like union, intersection and symmetric difference."
   ]
  },
  {
   "cell_type": "code",
   "execution_count": 17,
   "id": "f025c872",
   "metadata": {},
   "outputs": [
    {
     "name": "stdout",
     "output_type": "stream",
     "text": [
      "{1, 2, 3, 4, 5, 6}\n",
      "<class 'set'>\n"
     ]
    }
   ],
   "source": [
    "num={1,2,3,4,5,6}\n",
    "print (num)\n",
    "print(type(num))"
   ]
  },
  {
   "cell_type": "code",
   "execution_count": 18,
   "id": "151de2dc",
   "metadata": {},
   "outputs": [
    {
     "name": "stdout",
     "output_type": "stream",
     "text": [
      "{1, 2, 3, 5, 6, 7}\n"
     ]
    }
   ],
   "source": [
    "##basic operations on sets\n",
    "#add\n",
    "#remove\n",
    "num.add(7)\n",
    "num.remove(4)\n",
    "print(num)"
   ]
  },
  {
   "cell_type": "code",
   "execution_count": 19,
   "id": "bb2dfb0f",
   "metadata": {},
   "outputs": [],
   "source": [
    "num.discard(18)"
   ]
  },
  {
   "cell_type": "code",
   "execution_count": 20,
   "id": "49dcb643",
   "metadata": {},
   "outputs": [
    {
     "name": "stdout",
     "output_type": "stream",
     "text": [
      "1\n"
     ]
    }
   ],
   "source": [
    "removed_element = num.pop()\n",
    "print(removed_element)"
   ]
  },
  {
   "cell_type": "code",
   "execution_count": 21,
   "id": "41b0d51e",
   "metadata": {},
   "outputs": [
    {
     "name": "stdout",
     "output_type": "stream",
     "text": [
      "set()\n"
     ]
    }
   ],
   "source": [
    "num.clear()\n",
    "print(num)"
   ]
  },
  {
   "cell_type": "code",
   "execution_count": 22,
   "id": "16d763a2",
   "metadata": {},
   "outputs": [
    {
     "name": "stdout",
     "output_type": "stream",
     "text": [
      "True\n",
      "False\n"
     ]
    }
   ],
   "source": [
    "#membership_element\n",
    "num={1,2,3,4,5,6,7,8}\n",
    "print(1 in num)\n",
    "print(19 in num)"
   ]
  },
  {
   "cell_type": "code",
   "execution_count": 23,
   "id": "c3bc080f",
   "metadata": {},
   "outputs": [],
   "source": [
    "num1={12,3,2,3,4,2,2,4}\n",
    "union_set=num.union(num1)"
   ]
  },
  {
   "cell_type": "code",
   "execution_count": 24,
   "id": "2fb8edd6",
   "metadata": {},
   "outputs": [
    {
     "name": "stdout",
     "output_type": "stream",
     "text": [
      "{1, 2, 3, 4, 5, 6, 7, 8, 12}\n"
     ]
    }
   ],
   "source": [
    "print(union_set)"
   ]
  },
  {
   "cell_type": "code",
   "execution_count": 25,
   "id": "ecdba56e",
   "metadata": {},
   "outputs": [
    {
     "name": "stdout",
     "output_type": "stream",
     "text": [
      "{2, 3, 4}\n"
     ]
    }
   ],
   "source": [
    "intersection_set=num1.intersection(num)\n",
    "print(intersection_set)"
   ]
  },
  {
   "cell_type": "code",
   "execution_count": 27,
   "id": "8565ae0c",
   "metadata": {},
   "outputs": [
    {
     "name": "stdout",
     "output_type": "stream",
     "text": [
      "{2, 3, 4}\n"
     ]
    }
   ],
   "source": [
    "intersection_update_set=num1.intersection_update(num)\n",
    "print(num1)"
   ]
  }
 ],
 "metadata": {
  "kernelspec": {
   "display_name": "Python 3",
   "language": "python",
   "name": "python3"
  },
  "language_info": {
   "codemirror_mode": {
    "name": "ipython",
    "version": 3
   },
   "file_extension": ".py",
   "mimetype": "text/x-python",
   "name": "python",
   "nbconvert_exporter": "python",
   "pygments_lexer": "ipython3",
   "version": "3.10.5"
  }
 },
 "nbformat": 4,
 "nbformat_minor": 5
}
