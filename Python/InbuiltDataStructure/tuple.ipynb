{
 "cells": [
  {
   "cell_type": "markdown",
   "id": "9a87e14d",
   "metadata": {},
   "source": [
    "Tuple are ordered collection of item that are immutable. These are similar to list and their immutability makes difference."
   ]
  },
  {
   "cell_type": "code",
   "execution_count": 30,
   "id": "82fba8d0",
   "metadata": {},
   "outputs": [
    {
     "name": "stdout",
     "output_type": "stream",
     "text": [
      "()\n",
      "<class 'tuple'>\n"
     ]
    }
   ],
   "source": [
    "empty_tuple=()\n",
    "print(empty_tuple)\n",
    "print(type(empty_tuple))"
   ]
  },
  {
   "cell_type": "code",
   "execution_count": 31,
   "id": "9ed4aacb",
   "metadata": {},
   "outputs": [
    {
     "name": "stdout",
     "output_type": "stream",
     "text": [
      "<class 'list'>\n",
      "<class 'tuple'>\n"
     ]
    }
   ],
   "source": [
    "lst=list()\n",
    "tup=tuple()\n",
    "print(type(lst))\n",
    "print(type(tup))\n"
   ]
  },
  {
   "cell_type": "code",
   "execution_count": 32,
   "id": "0de8b716",
   "metadata": {},
   "outputs": [
    {
     "name": "stdout",
     "output_type": "stream",
     "text": [
      "(1, 2, 3, 4, 5, 6)\n"
     ]
    }
   ],
   "source": [
    "num=[1,2,3,4,5,6]\n",
    "tup_num=tuple(num)\n",
    "print(tup_num)"
   ]
  },
  {
   "cell_type": "code",
   "execution_count": 33,
   "id": "15908fc3",
   "metadata": {},
   "outputs": [
    {
     "data": {
      "text/plain": [
       "[1, 2, 3, 4, 5, 6]"
      ]
     },
     "execution_count": 33,
     "metadata": {},
     "output_type": "execute_result"
    }
   ],
   "source": [
    "list(tup_num)"
   ]
  },
  {
   "cell_type": "code",
   "execution_count": 34,
   "id": "8a34f014",
   "metadata": {},
   "outputs": [
    {
     "data": {
      "text/plain": [
       "(1, 2, 3, 4, 5, 6)"
      ]
     },
     "execution_count": 34,
     "metadata": {},
     "output_type": "execute_result"
    }
   ],
   "source": [
    "tuple(tup_num)"
   ]
  },
  {
   "cell_type": "code",
   "execution_count": 35,
   "id": "b6338090",
   "metadata": {},
   "outputs": [
    {
     "data": {
      "text/plain": [
       "6"
      ]
     },
     "execution_count": 35,
     "metadata": {},
     "output_type": "execute_result"
    }
   ],
   "source": [
    "tup_num[-1]"
   ]
  },
  {
   "cell_type": "code",
   "execution_count": 36,
   "id": "ca6d37e0",
   "metadata": {},
   "outputs": [
    {
     "data": {
      "text/plain": [
       "3"
      ]
     },
     "execution_count": 36,
     "metadata": {},
     "output_type": "execute_result"
    }
   ],
   "source": [
    "tup_num[2]"
   ]
  },
  {
   "cell_type": "code",
   "execution_count": 37,
   "id": "d7fc39f2",
   "metadata": {},
   "outputs": [
    {
     "data": {
      "text/plain": [
       "(6, 5, 4, 3, 2, 1)"
      ]
     },
     "execution_count": 37,
     "metadata": {},
     "output_type": "execute_result"
    }
   ],
   "source": [
    "tup_num[::-1]"
   ]
  },
  {
   "cell_type": "code",
   "execution_count": 38,
   "id": "de84f132",
   "metadata": {},
   "outputs": [
    {
     "data": {
      "text/plain": [
       "(1, 2, 3, 4)"
      ]
     },
     "execution_count": 38,
     "metadata": {},
     "output_type": "execute_result"
    }
   ],
   "source": [
    "tup_num[0:4]"
   ]
  },
  {
   "cell_type": "code",
   "execution_count": 39,
   "id": "6da012dc",
   "metadata": {},
   "outputs": [
    {
     "data": {
      "text/plain": [
       "(1, 4)"
      ]
     },
     "execution_count": 39,
     "metadata": {},
     "output_type": "execute_result"
    }
   ],
   "source": [
    "tup_num[0:5:3]"
   ]
  },
  {
   "cell_type": "code",
   "execution_count": 40,
   "id": "ef2b1798",
   "metadata": {},
   "outputs": [
    {
     "data": {
      "text/plain": [
       "1"
      ]
     },
     "execution_count": 40,
     "metadata": {},
     "output_type": "execute_result"
    }
   ],
   "source": [
    "tup_num.count(2)"
   ]
  },
  {
   "cell_type": "code",
   "execution_count": 41,
   "id": "a1dce09c",
   "metadata": {},
   "outputs": [
    {
     "data": {
      "text/plain": [
       "2"
      ]
     },
     "execution_count": 41,
     "metadata": {},
     "output_type": "execute_result"
    }
   ],
   "source": [
    "tup_num.index(3)"
   ]
  },
  {
   "cell_type": "code",
   "execution_count": 42,
   "id": "43a0ff5b",
   "metadata": {},
   "outputs": [
    {
     "name": "stdout",
     "output_type": "stream",
     "text": [
      "1\n",
      "2 3 4 5\n",
      "6\n"
     ]
    }
   ],
   "source": [
    "start,*middle,end=tup_num\n",
    "print(start)\n",
    "print(*middle)\n",
    "print(end)"
   ]
  },
  {
   "cell_type": "code",
   "execution_count": 44,
   "id": "e0a3bd9b",
   "metadata": {},
   "outputs": [
    {
     "name": "stdout",
     "output_type": "stream",
     "text": [
      "(1, 2, 3, 4, 5, 6, 1, 3, 2, 4, 5, 2)\n"
     ]
    }
   ],
   "source": [
    "tup_numm=(1,3,2,4,5,2)\n",
    "concatenation_tuple=tup_num+tup_numm\n",
    "print(concatenation_tuple)"
   ]
  }
 ],
 "metadata": {
  "kernelspec": {
   "display_name": "Python 3",
   "language": "python",
   "name": "python3"
  },
  "language_info": {
   "codemirror_mode": {
    "name": "ipython",
    "version": 3
   },
   "file_extension": ".py",
   "mimetype": "text/x-python",
   "name": "python",
   "nbconvert_exporter": "python",
   "pygments_lexer": "ipython3",
   "version": "3.10.5"
  }
 },
 "nbformat": 4,
 "nbformat_minor": 5
}
