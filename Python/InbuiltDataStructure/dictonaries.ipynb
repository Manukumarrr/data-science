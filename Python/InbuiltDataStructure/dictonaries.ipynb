{
 "cells": [
  {
   "cell_type": "markdown",
   "id": "65305bd3",
   "metadata": {},
   "source": [
    "dictonaries are unordered collection of items. It stores data in key-value pairs.Keys must be unique and immutable where as data can be mutable and of any type."
   ]
  },
  {
   "cell_type": "code",
   "execution_count": 1,
   "id": "5141c076",
   "metadata": {},
   "outputs": [
    {
     "name": "stdout",
     "output_type": "stream",
     "text": [
      "<class 'dict'>\n"
     ]
    }
   ],
   "source": [
    "empty_dict={}\n",
    "print(type(empty_dict))"
   ]
  },
  {
   "cell_type": "code",
   "execution_count": 3,
   "id": "1c79c189",
   "metadata": {},
   "outputs": [
    {
     "name": "stdout",
     "output_type": "stream",
     "text": [
      "{'name': 'Manu', 'Age': 20, 'Grade': 35}\n"
     ]
    }
   ],
   "source": [
    "student={\"name\":\"Manu\",\"Age\":20,\"Grade\":35}\n",
    "print(student)"
   ]
  },
  {
   "cell_type": "code",
   "execution_count": 7,
   "id": "52a7b586",
   "metadata": {},
   "outputs": [
    {
     "name": "stdout",
     "output_type": "stream",
     "text": [
      "35\n"
     ]
    }
   ],
   "source": [
    "print(student['Grade'])"
   ]
  },
  {
   "cell_type": "code",
   "execution_count": 9,
   "id": "dfce3713",
   "metadata": {},
   "outputs": [
    {
     "name": "stdout",
     "output_type": "stream",
     "text": [
      "not available\n"
     ]
    }
   ],
   "source": [
    "print(student.get('lastname',\"not available\"))"
   ]
  },
  {
   "cell_type": "code",
   "execution_count": 10,
   "id": "60ad44ee",
   "metadata": {},
   "outputs": [
    {
     "name": "stdout",
     "output_type": "stream",
     "text": [
      "{'name': 'Manu', 'Age': 99, 'Grade': 35}\n"
     ]
    }
   ],
   "source": [
    "#dictonaries are mutable\n",
    "student['Age']=99\n",
    "print(student)\n",
    "student[\"Address\"]=\"INDIA\""
   ]
  },
  {
   "cell_type": "code",
   "execution_count": 11,
   "id": "80ef5816",
   "metadata": {},
   "outputs": [
    {
     "name": "stdout",
     "output_type": "stream",
     "text": [
      "{'name': 'Manu', 'Age': 99, 'Grade': 35, 'Address': 'INDIA'}\n"
     ]
    }
   ],
   "source": [
    "print(student)"
   ]
  },
  {
   "cell_type": "code",
   "execution_count": 13,
   "id": "6981636d",
   "metadata": {},
   "outputs": [],
   "source": [
    "#dictonaries methods\n",
    "keys=student.keys()\n",
    "values=student.values()"
   ]
  },
  {
   "cell_type": "code",
   "execution_count": 14,
   "id": "f4f0f4c1",
   "metadata": {},
   "outputs": [
    {
     "name": "stdout",
     "output_type": "stream",
     "text": [
      "dict_keys(['name', 'Age', 'Grade', 'Address'])\n",
      "dict_values(['Manu', 99, 35, 'INDIA'])\n"
     ]
    }
   ],
   "source": [
    "print(keys)\n",
    "print(values)"
   ]
  },
  {
   "cell_type": "code",
   "execution_count": 15,
   "id": "72f64163",
   "metadata": {},
   "outputs": [],
   "source": [
    "items=student.items()"
   ]
  },
  {
   "cell_type": "code",
   "execution_count": 16,
   "id": "3bfab3b4",
   "metadata": {},
   "outputs": [
    {
     "name": "stdout",
     "output_type": "stream",
     "text": [
      "dict_items([('name', 'Manu'), ('Age', 99), ('Grade', 35), ('Address', 'INDIA')])\n"
     ]
    }
   ],
   "source": [
    "print(items)"
   ]
  },
  {
   "cell_type": "code",
   "execution_count": 18,
   "id": "a5f2f6e7",
   "metadata": {},
   "outputs": [
    {
     "name": "stdout",
     "output_type": "stream",
     "text": [
      "{'name': 'Manu', 'Age': 99, 'Grade': 35, 'Address': 'INDIA'}\n",
      "{'name': 'Manu', 'Age': 99, 'Grade': 35, 'Address': 'INDIA'}\n"
     ]
    }
   ],
   "source": [
    "#shallow copy\n",
    "student_copy=student\n",
    "print(student)\n",
    "print(student_copy)\n"
   ]
  },
  {
   "cell_type": "code",
   "execution_count": null,
   "id": "fa92bbf7",
   "metadata": {},
   "outputs": [],
   "source": []
  }
 ],
 "metadata": {
  "kernelspec": {
   "display_name": "Python 3",
   "language": "python",
   "name": "python3"
  },
  "language_info": {
   "codemirror_mode": {
    "name": "ipython",
    "version": 3
   },
   "file_extension": ".py",
   "mimetype": "text/x-python",
   "name": "python",
   "nbconvert_exporter": "python",
   "pygments_lexer": "ipython3",
   "version": "3.10.5"
  }
 },
 "nbformat": 4,
 "nbformat_minor": 5
}
