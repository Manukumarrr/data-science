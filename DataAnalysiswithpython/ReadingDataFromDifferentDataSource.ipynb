{
 "cells": [
  {
   "cell_type": "markdown",
   "id": "c2bd8f77",
   "metadata": {},
   "source": [
    "Reading data from different data sources"
   ]
  },
  {
   "cell_type": "code",
   "execution_count": 2,
   "id": "3a73c89a",
   "metadata": {},
   "outputs": [],
   "source": [
    "import pandas as pd"
   ]
  },
  {
   "cell_type": "code",
   "execution_count": 3,
   "id": "0284a14a",
   "metadata": {},
   "outputs": [],
   "source": [
    "import numpy as np"
   ]
  },
  {
   "cell_type": "code",
   "execution_count": 4,
   "id": "f00edf9c",
   "metadata": {},
   "outputs": [],
   "source": [
    "from io import StringIO"
   ]
  },
  {
   "cell_type": "code",
   "execution_count": null,
   "id": "8074d851",
   "metadata": {},
   "outputs": [],
   "source": [
    "Data = '{}'"
   ]
  }
 ],
 "metadata": {
  "kernelspec": {
   "display_name": "Python 3",
   "language": "python",
   "name": "python3"
  },
  "language_info": {
   "codemirror_mode": {
    "name": "ipython",
    "version": 3
   },
   "file_extension": ".py",
   "mimetype": "text/x-python",
   "name": "python",
   "nbconvert_exporter": "python",
   "pygments_lexer": "ipython3",
   "version": "3.10.5"
  }
 },
 "nbformat": 4,
 "nbformat_minor": 5
}
